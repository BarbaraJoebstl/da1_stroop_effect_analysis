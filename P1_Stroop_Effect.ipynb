{
 "cells": [
  {
   "cell_type": "markdown",
   "metadata": {},
   "source": [
    "Background Information\n",
    "\n",
    "In a Stroop task, participants are presented with a list of words, with each word displayed in a color of ink. The participant’s task is to say out loud the color of the ink in which the word is printed. The task has two conditions: a congruent words condition, and an incongruent words condition. In the congruent words condition, the words being displayed are color words whose names match the colors in which they are printed: for example RED, BLUE. In the incongruent words condition, the words displayed are color words whose names do not match the colors in which they are printed: for example PURPLE, ORANGE. In each case, we measure the time it takes to name the ink colors in equally-sized lists. Each participant will go through and record a time from each condition."
   ]
  },
  {
   "cell_type": "markdown",
   "metadata": {
    "collapsed": true
   },
   "source": [
    "**1. What is our independent variable? What is our dependent variable?**"
   ]
  },
  {
   "cell_type": "markdown",
   "metadata": {},
   "source": [
    "The *independent variable* is the variable that is changed or controlled in a scientific experiment. In this experiment it is the *way the text is displayed*. In our case it can be displayed \"Congruent\" or \"Incongruent\".\n",
    "\n",
    "The *dependent variable* is the variable that is tested in an experiment. In this case it is the *time needed to read the text*. The operational Definition of a variable is the specific way in which it is measured in a study. In our case it is measured in seconds."
   ]
  },
  {
   "cell_type": "code",
   "execution_count": 48,
   "metadata": {
    "collapsed": false
   },
   "outputs": [
    {
     "data": {
      "text/html": [
       "<div>\n",
       "<table border=\"1\" class=\"dataframe\">\n",
       "  <thead>\n",
       "    <tr style=\"text-align: right;\">\n",
       "      <th></th>\n",
       "      <th>Congruent</th>\n",
       "      <th>Incongruent</th>\n",
       "    </tr>\n",
       "  </thead>\n",
       "  <tbody>\n",
       "    <tr>\n",
       "      <th>0</th>\n",
       "      <td>12.079</td>\n",
       "      <td>19.278</td>\n",
       "    </tr>\n",
       "    <tr>\n",
       "      <th>1</th>\n",
       "      <td>16.791</td>\n",
       "      <td>18.741</td>\n",
       "    </tr>\n",
       "    <tr>\n",
       "      <th>2</th>\n",
       "      <td>9.564</td>\n",
       "      <td>21.214</td>\n",
       "    </tr>\n",
       "    <tr>\n",
       "      <th>3</th>\n",
       "      <td>8.630</td>\n",
       "      <td>15.687</td>\n",
       "    </tr>\n",
       "    <tr>\n",
       "      <th>4</th>\n",
       "      <td>14.669</td>\n",
       "      <td>22.803</td>\n",
       "    </tr>\n",
       "    <tr>\n",
       "      <th>5</th>\n",
       "      <td>12.238</td>\n",
       "      <td>20.878</td>\n",
       "    </tr>\n",
       "    <tr>\n",
       "      <th>6</th>\n",
       "      <td>14.692</td>\n",
       "      <td>24.572</td>\n",
       "    </tr>\n",
       "    <tr>\n",
       "      <th>7</th>\n",
       "      <td>8.987</td>\n",
       "      <td>17.394</td>\n",
       "    </tr>\n",
       "    <tr>\n",
       "      <th>8</th>\n",
       "      <td>9.401</td>\n",
       "      <td>20.762</td>\n",
       "    </tr>\n",
       "    <tr>\n",
       "      <th>9</th>\n",
       "      <td>14.480</td>\n",
       "      <td>26.282</td>\n",
       "    </tr>\n",
       "    <tr>\n",
       "      <th>10</th>\n",
       "      <td>22.328</td>\n",
       "      <td>24.524</td>\n",
       "    </tr>\n",
       "    <tr>\n",
       "      <th>11</th>\n",
       "      <td>15.298</td>\n",
       "      <td>18.644</td>\n",
       "    </tr>\n",
       "    <tr>\n",
       "      <th>12</th>\n",
       "      <td>15.073</td>\n",
       "      <td>17.510</td>\n",
       "    </tr>\n",
       "    <tr>\n",
       "      <th>13</th>\n",
       "      <td>16.929</td>\n",
       "      <td>20.330</td>\n",
       "    </tr>\n",
       "    <tr>\n",
       "      <th>14</th>\n",
       "      <td>18.200</td>\n",
       "      <td>35.255</td>\n",
       "    </tr>\n",
       "    <tr>\n",
       "      <th>15</th>\n",
       "      <td>12.130</td>\n",
       "      <td>22.158</td>\n",
       "    </tr>\n",
       "    <tr>\n",
       "      <th>16</th>\n",
       "      <td>18.495</td>\n",
       "      <td>25.139</td>\n",
       "    </tr>\n",
       "    <tr>\n",
       "      <th>17</th>\n",
       "      <td>10.639</td>\n",
       "      <td>20.429</td>\n",
       "    </tr>\n",
       "    <tr>\n",
       "      <th>18</th>\n",
       "      <td>11.344</td>\n",
       "      <td>17.425</td>\n",
       "    </tr>\n",
       "    <tr>\n",
       "      <th>19</th>\n",
       "      <td>12.369</td>\n",
       "      <td>34.288</td>\n",
       "    </tr>\n",
       "    <tr>\n",
       "      <th>20</th>\n",
       "      <td>12.944</td>\n",
       "      <td>23.894</td>\n",
       "    </tr>\n",
       "    <tr>\n",
       "      <th>21</th>\n",
       "      <td>14.233</td>\n",
       "      <td>17.960</td>\n",
       "    </tr>\n",
       "    <tr>\n",
       "      <th>22</th>\n",
       "      <td>19.710</td>\n",
       "      <td>22.058</td>\n",
       "    </tr>\n",
       "    <tr>\n",
       "      <th>23</th>\n",
       "      <td>16.004</td>\n",
       "      <td>21.157</td>\n",
       "    </tr>\n",
       "  </tbody>\n",
       "</table>\n",
       "</div>"
      ],
      "text/plain": [
       "    Congruent  Incongruent\n",
       "0      12.079       19.278\n",
       "1      16.791       18.741\n",
       "2       9.564       21.214\n",
       "3       8.630       15.687\n",
       "4      14.669       22.803\n",
       "5      12.238       20.878\n",
       "6      14.692       24.572\n",
       "7       8.987       17.394\n",
       "8       9.401       20.762\n",
       "9      14.480       26.282\n",
       "10     22.328       24.524\n",
       "11     15.298       18.644\n",
       "12     15.073       17.510\n",
       "13     16.929       20.330\n",
       "14     18.200       35.255\n",
       "15     12.130       22.158\n",
       "16     18.495       25.139\n",
       "17     10.639       20.429\n",
       "18     11.344       17.425\n",
       "19     12.369       34.288\n",
       "20     12.944       23.894\n",
       "21     14.233       17.960\n",
       "22     19.710       22.058\n",
       "23     16.004       21.157"
      ]
     },
     "execution_count": 48,
     "metadata": {},
     "output_type": "execute_result"
    }
   ],
   "source": [
    "import pandas as pd\n",
    "path = r'stroopdata.csv'\n",
    "data = pd.read_csv(path)\n",
    "data"
   ]
  },
  {
   "cell_type": "markdown",
   "metadata": {},
   "source": [
    "**2. What is an appropriate set of hypotheses for this task? What kind of statistical test do you expect to perform? Justify your choices.**"
   ]
  },
  {
   "cell_type": "markdown",
   "metadata": {},
   "source": [
    "We have a sample of n=24 with the recognition times of congruent and incongruent data.\n",
    "And we want to test the null hypothesis that the true mean difference is zero between the two data sets.\n",
    "\n",
    "Null hypotheses (H_0): There is no difference in time needed to read a congruent displayed text to a incongruent displayed text.\n",
    "\n",
    "Alternative hypotheses (H_A): It takes a different time to read an incongruent displayed text than to read a congruent displayed text.\n",
    "\n",
    "\\begin{equation} \n",
    "% \n",
    "\\\\ \\mu_{congruent} -  \\mu_{incongruent} = \\mu_{difference}\n",
    "% \n",
    "\\end{equation}\n",
    "\n",
    "\n",
    "\\begin{equation} \n",
    "% \n",
    "\\\\H_0: \\mu_{difference} = 0\n",
    "% \n",
    "\\end{equation}\n",
    "\n",
    "\\begin{equation} \n",
    "% \n",
    "\\\\H_A: \\mu_{difference} \\neq 0\n",
    "% \n",
    "\\end{equation}\n",
    "\n",
    "\\begin{equation} \n",
    "% \n",
    "\\\\ \\mu = population average\n",
    "% \n",
    "\\end{equation}\n",
    "\n",
    "\\begin{equation} \n",
    "% \n",
    "\\\\ \\overline{d} = sample average\n",
    "% \n",
    "\\end{equation}\n",
    "\n",
    "We will perform a t-test because our sample size is smaller than 30 (n = 24) and we don't know the population standard deviation.\n",
    "\n",
    "We will conduct a two-tailed paired t-test, because we want to see if there are any changes in the reading time if the data is displayed congruent or incongruent and our sample size (n) is 24. So we want to measure two different treatments on a persons reaction.\n",
    "\n",
    "We will perform a two tailed t-test, because we want to see if there if there is a difference in the reaction time."
   ]
  },
  {
   "cell_type": "markdown",
   "metadata": {},
   "source": [
    "**3. Report some descriptive statistics regarding this dataset. Include at least one measure of central tendency and at least one measure of variability.**"
   ]
  },
  {
   "cell_type": "markdown",
   "metadata": {},
   "source": [
    "*Measures of Central Tendency*"
   ]
  },
  {
   "cell_type": "code",
   "execution_count": 6,
   "metadata": {
    "collapsed": false
   },
   "outputs": [
    {
     "data": {
      "text/plain": [
       "14.051125000000004"
      ]
     },
     "execution_count": 6,
     "metadata": {},
     "output_type": "execute_result"
    }
   ],
   "source": [
    "data['Congruent'].mean()"
   ]
  },
  {
   "cell_type": "code",
   "execution_count": 157,
   "metadata": {
    "collapsed": false
   },
   "outputs": [
    {
     "data": {
      "text/plain": [
       "14.3565"
      ]
     },
     "execution_count": 157,
     "metadata": {},
     "output_type": "execute_result"
    }
   ],
   "source": [
    "data['Congruent'].median()"
   ]
  },
  {
   "cell_type": "code",
   "execution_count": 158,
   "metadata": {
    "collapsed": false
   },
   "outputs": [
    {
     "data": {
      "text/plain": [
       "Series([], dtype: float64)"
      ]
     },
     "execution_count": 158,
     "metadata": {},
     "output_type": "execute_result"
    }
   ],
   "source": [
    "data['Congruent'].mode()"
   ]
  },
  {
   "cell_type": "code",
   "execution_count": 159,
   "metadata": {
    "collapsed": false
   },
   "outputs": [
    {
     "data": {
      "text/plain": [
       "22.01591666666667"
      ]
     },
     "execution_count": 159,
     "metadata": {},
     "output_type": "execute_result"
    }
   ],
   "source": [
    "data['Incongruent'].mean()"
   ]
  },
  {
   "cell_type": "code",
   "execution_count": 160,
   "metadata": {
    "collapsed": false
   },
   "outputs": [
    {
     "data": {
      "text/plain": [
       "21.0175"
      ]
     },
     "execution_count": 160,
     "metadata": {},
     "output_type": "execute_result"
    }
   ],
   "source": [
    "data['Incongruent'].median()"
   ]
  },
  {
   "cell_type": "code",
   "execution_count": 161,
   "metadata": {
    "collapsed": false
   },
   "outputs": [
    {
     "data": {
      "text/plain": [
       "Series([], dtype: float64)"
      ]
     },
     "execution_count": 161,
     "metadata": {},
     "output_type": "execute_result"
    }
   ],
   "source": [
    "data['Incongruent'].mode()"
   ]
  },
  {
   "cell_type": "markdown",
   "metadata": {},
   "source": [
    " As we can see above, the mean from the 'Congruent' column is a lot smaller than the mean from the 'Incongruent' column. Also the medians differ a lot. As every value appears only once, there is no mode for the 'Congruent' and 'Incongruent' column."
   ]
  },
  {
   "cell_type": "markdown",
   "metadata": {},
   "source": [
    "*Measures of variability*"
   ]
  },
  {
   "cell_type": "code",
   "execution_count": 7,
   "metadata": {
    "collapsed": false
   },
   "outputs": [
    {
     "data": {
      "text/plain": [
       "Congruent      3.559358\n",
       "Incongruent    4.797057\n",
       "dtype: float64"
      ]
     },
     "execution_count": 7,
     "metadata": {},
     "output_type": "execute_result"
    }
   ],
   "source": [
    "#calculate the standard deviation\n",
    "data.std()"
   ]
  },
  {
   "cell_type": "code",
   "execution_count": 8,
   "metadata": {
    "collapsed": false
   },
   "outputs": [
    {
     "data": {
      "text/html": [
       "<div>\n",
       "<table border=\"1\" class=\"dataframe\">\n",
       "  <thead>\n",
       "    <tr style=\"text-align: right;\">\n",
       "      <th></th>\n",
       "      <th>Congruent</th>\n",
       "      <th>Incongruent</th>\n",
       "      <th>CongruentDeviationFromMean</th>\n",
       "      <th>IsCongruentOutlier</th>\n",
       "      <th>CongruentSquareDevation</th>\n",
       "      <th>IncongruentDeviationFromMean</th>\n",
       "      <th>IsIncongruentOutlier</th>\n",
       "      <th>IncongruentSquareDevation</th>\n",
       "    </tr>\n",
       "  </thead>\n",
       "  <tbody>\n",
       "    <tr>\n",
       "      <th>0</th>\n",
       "      <td>12.079</td>\n",
       "      <td>19.278</td>\n",
       "      <td>1.972125</td>\n",
       "      <td>False</td>\n",
       "      <td>3.889277</td>\n",
       "      <td>2.737917</td>\n",
       "      <td>False</td>\n",
       "      <td>7.496188</td>\n",
       "    </tr>\n",
       "    <tr>\n",
       "      <th>1</th>\n",
       "      <td>16.791</td>\n",
       "      <td>18.741</td>\n",
       "      <td>2.739875</td>\n",
       "      <td>False</td>\n",
       "      <td>7.506915</td>\n",
       "      <td>3.274917</td>\n",
       "      <td>False</td>\n",
       "      <td>10.725079</td>\n",
       "    </tr>\n",
       "    <tr>\n",
       "      <th>2</th>\n",
       "      <td>9.564</td>\n",
       "      <td>21.214</td>\n",
       "      <td>4.487125</td>\n",
       "      <td>False</td>\n",
       "      <td>20.134291</td>\n",
       "      <td>0.801917</td>\n",
       "      <td>False</td>\n",
       "      <td>0.643070</td>\n",
       "    </tr>\n",
       "    <tr>\n",
       "      <th>3</th>\n",
       "      <td>8.630</td>\n",
       "      <td>15.687</td>\n",
       "      <td>5.421125</td>\n",
       "      <td>False</td>\n",
       "      <td>29.388596</td>\n",
       "      <td>6.328917</td>\n",
       "      <td>False</td>\n",
       "      <td>40.055186</td>\n",
       "    </tr>\n",
       "    <tr>\n",
       "      <th>4</th>\n",
       "      <td>14.669</td>\n",
       "      <td>22.803</td>\n",
       "      <td>0.617875</td>\n",
       "      <td>False</td>\n",
       "      <td>0.381770</td>\n",
       "      <td>0.787083</td>\n",
       "      <td>False</td>\n",
       "      <td>0.619500</td>\n",
       "    </tr>\n",
       "    <tr>\n",
       "      <th>5</th>\n",
       "      <td>12.238</td>\n",
       "      <td>20.878</td>\n",
       "      <td>1.813125</td>\n",
       "      <td>False</td>\n",
       "      <td>3.287422</td>\n",
       "      <td>1.137917</td>\n",
       "      <td>False</td>\n",
       "      <td>1.294854</td>\n",
       "    </tr>\n",
       "    <tr>\n",
       "      <th>6</th>\n",
       "      <td>14.692</td>\n",
       "      <td>24.572</td>\n",
       "      <td>0.640875</td>\n",
       "      <td>False</td>\n",
       "      <td>0.410721</td>\n",
       "      <td>2.556083</td>\n",
       "      <td>False</td>\n",
       "      <td>6.533562</td>\n",
       "    </tr>\n",
       "    <tr>\n",
       "      <th>7</th>\n",
       "      <td>8.987</td>\n",
       "      <td>17.394</td>\n",
       "      <td>5.064125</td>\n",
       "      <td>False</td>\n",
       "      <td>25.645362</td>\n",
       "      <td>4.621917</td>\n",
       "      <td>False</td>\n",
       "      <td>21.362114</td>\n",
       "    </tr>\n",
       "    <tr>\n",
       "      <th>8</th>\n",
       "      <td>9.401</td>\n",
       "      <td>20.762</td>\n",
       "      <td>4.650125</td>\n",
       "      <td>False</td>\n",
       "      <td>21.623663</td>\n",
       "      <td>1.253917</td>\n",
       "      <td>False</td>\n",
       "      <td>1.572307</td>\n",
       "    </tr>\n",
       "    <tr>\n",
       "      <th>9</th>\n",
       "      <td>14.480</td>\n",
       "      <td>26.282</td>\n",
       "      <td>0.428875</td>\n",
       "      <td>False</td>\n",
       "      <td>0.183934</td>\n",
       "      <td>4.266083</td>\n",
       "      <td>False</td>\n",
       "      <td>18.199467</td>\n",
       "    </tr>\n",
       "    <tr>\n",
       "      <th>10</th>\n",
       "      <td>22.328</td>\n",
       "      <td>24.524</td>\n",
       "      <td>8.276875</td>\n",
       "      <td>True</td>\n",
       "      <td>68.506660</td>\n",
       "      <td>2.508083</td>\n",
       "      <td>False</td>\n",
       "      <td>6.290482</td>\n",
       "    </tr>\n",
       "    <tr>\n",
       "      <th>11</th>\n",
       "      <td>15.298</td>\n",
       "      <td>18.644</td>\n",
       "      <td>1.246875</td>\n",
       "      <td>False</td>\n",
       "      <td>1.554697</td>\n",
       "      <td>3.371917</td>\n",
       "      <td>False</td>\n",
       "      <td>11.369822</td>\n",
       "    </tr>\n",
       "    <tr>\n",
       "      <th>12</th>\n",
       "      <td>15.073</td>\n",
       "      <td>17.510</td>\n",
       "      <td>1.021875</td>\n",
       "      <td>False</td>\n",
       "      <td>1.044229</td>\n",
       "      <td>4.505917</td>\n",
       "      <td>False</td>\n",
       "      <td>20.303285</td>\n",
       "    </tr>\n",
       "    <tr>\n",
       "      <th>13</th>\n",
       "      <td>16.929</td>\n",
       "      <td>20.330</td>\n",
       "      <td>2.877875</td>\n",
       "      <td>False</td>\n",
       "      <td>8.282165</td>\n",
       "      <td>1.685917</td>\n",
       "      <td>False</td>\n",
       "      <td>2.842315</td>\n",
       "    </tr>\n",
       "    <tr>\n",
       "      <th>14</th>\n",
       "      <td>18.200</td>\n",
       "      <td>35.255</td>\n",
       "      <td>4.148875</td>\n",
       "      <td>False</td>\n",
       "      <td>17.213164</td>\n",
       "      <td>13.239083</td>\n",
       "      <td>True</td>\n",
       "      <td>175.273328</td>\n",
       "    </tr>\n",
       "    <tr>\n",
       "      <th>15</th>\n",
       "      <td>12.130</td>\n",
       "      <td>22.158</td>\n",
       "      <td>1.921125</td>\n",
       "      <td>False</td>\n",
       "      <td>3.690721</td>\n",
       "      <td>0.142083</td>\n",
       "      <td>False</td>\n",
       "      <td>0.020188</td>\n",
       "    </tr>\n",
       "    <tr>\n",
       "      <th>16</th>\n",
       "      <td>18.495</td>\n",
       "      <td>25.139</td>\n",
       "      <td>4.443875</td>\n",
       "      <td>False</td>\n",
       "      <td>19.748025</td>\n",
       "      <td>3.123083</td>\n",
       "      <td>False</td>\n",
       "      <td>9.753650</td>\n",
       "    </tr>\n",
       "    <tr>\n",
       "      <th>17</th>\n",
       "      <td>10.639</td>\n",
       "      <td>20.429</td>\n",
       "      <td>3.412125</td>\n",
       "      <td>False</td>\n",
       "      <td>11.642597</td>\n",
       "      <td>1.586917</td>\n",
       "      <td>False</td>\n",
       "      <td>2.518305</td>\n",
       "    </tr>\n",
       "    <tr>\n",
       "      <th>18</th>\n",
       "      <td>11.344</td>\n",
       "      <td>17.425</td>\n",
       "      <td>2.707125</td>\n",
       "      <td>False</td>\n",
       "      <td>7.328526</td>\n",
       "      <td>4.590917</td>\n",
       "      <td>False</td>\n",
       "      <td>21.076516</td>\n",
       "    </tr>\n",
       "    <tr>\n",
       "      <th>19</th>\n",
       "      <td>12.369</td>\n",
       "      <td>34.288</td>\n",
       "      <td>1.682125</td>\n",
       "      <td>False</td>\n",
       "      <td>2.829545</td>\n",
       "      <td>12.272083</td>\n",
       "      <td>True</td>\n",
       "      <td>150.604029</td>\n",
       "    </tr>\n",
       "    <tr>\n",
       "      <th>20</th>\n",
       "      <td>12.944</td>\n",
       "      <td>23.894</td>\n",
       "      <td>1.107125</td>\n",
       "      <td>False</td>\n",
       "      <td>1.225726</td>\n",
       "      <td>1.878083</td>\n",
       "      <td>False</td>\n",
       "      <td>3.527197</td>\n",
       "    </tr>\n",
       "    <tr>\n",
       "      <th>21</th>\n",
       "      <td>14.233</td>\n",
       "      <td>17.960</td>\n",
       "      <td>0.181875</td>\n",
       "      <td>False</td>\n",
       "      <td>0.033079</td>\n",
       "      <td>4.055917</td>\n",
       "      <td>False</td>\n",
       "      <td>16.450460</td>\n",
       "    </tr>\n",
       "    <tr>\n",
       "      <th>22</th>\n",
       "      <td>19.710</td>\n",
       "      <td>22.058</td>\n",
       "      <td>5.658875</td>\n",
       "      <td>False</td>\n",
       "      <td>32.022866</td>\n",
       "      <td>0.042083</td>\n",
       "      <td>False</td>\n",
       "      <td>0.001771</td>\n",
       "    </tr>\n",
       "    <tr>\n",
       "      <th>23</th>\n",
       "      <td>16.004</td>\n",
       "      <td>21.157</td>\n",
       "      <td>1.952875</td>\n",
       "      <td>False</td>\n",
       "      <td>3.813721</td>\n",
       "      <td>0.858917</td>\n",
       "      <td>False</td>\n",
       "      <td>0.737738</td>\n",
       "    </tr>\n",
       "  </tbody>\n",
       "</table>\n",
       "</div>"
      ],
      "text/plain": [
       "    Congruent  Incongruent  CongruentDeviationFromMean IsCongruentOutlier  \\\n",
       "0      12.079       19.278                    1.972125              False   \n",
       "1      16.791       18.741                    2.739875              False   \n",
       "2       9.564       21.214                    4.487125              False   \n",
       "3       8.630       15.687                    5.421125              False   \n",
       "4      14.669       22.803                    0.617875              False   \n",
       "5      12.238       20.878                    1.813125              False   \n",
       "6      14.692       24.572                    0.640875              False   \n",
       "7       8.987       17.394                    5.064125              False   \n",
       "8       9.401       20.762                    4.650125              False   \n",
       "9      14.480       26.282                    0.428875              False   \n",
       "10     22.328       24.524                    8.276875               True   \n",
       "11     15.298       18.644                    1.246875              False   \n",
       "12     15.073       17.510                    1.021875              False   \n",
       "13     16.929       20.330                    2.877875              False   \n",
       "14     18.200       35.255                    4.148875              False   \n",
       "15     12.130       22.158                    1.921125              False   \n",
       "16     18.495       25.139                    4.443875              False   \n",
       "17     10.639       20.429                    3.412125              False   \n",
       "18     11.344       17.425                    2.707125              False   \n",
       "19     12.369       34.288                    1.682125              False   \n",
       "20     12.944       23.894                    1.107125              False   \n",
       "21     14.233       17.960                    0.181875              False   \n",
       "22     19.710       22.058                    5.658875              False   \n",
       "23     16.004       21.157                    1.952875              False   \n",
       "\n",
       "    CongruentSquareDevation  IncongruentDeviationFromMean  \\\n",
       "0                  3.889277                      2.737917   \n",
       "1                  7.506915                      3.274917   \n",
       "2                 20.134291                      0.801917   \n",
       "3                 29.388596                      6.328917   \n",
       "4                  0.381770                      0.787083   \n",
       "5                  3.287422                      1.137917   \n",
       "6                  0.410721                      2.556083   \n",
       "7                 25.645362                      4.621917   \n",
       "8                 21.623663                      1.253917   \n",
       "9                  0.183934                      4.266083   \n",
       "10                68.506660                      2.508083   \n",
       "11                 1.554697                      3.371917   \n",
       "12                 1.044229                      4.505917   \n",
       "13                 8.282165                      1.685917   \n",
       "14                17.213164                     13.239083   \n",
       "15                 3.690721                      0.142083   \n",
       "16                19.748025                      3.123083   \n",
       "17                11.642597                      1.586917   \n",
       "18                 7.328526                      4.590917   \n",
       "19                 2.829545                     12.272083   \n",
       "20                 1.225726                      1.878083   \n",
       "21                 0.033079                      4.055917   \n",
       "22                32.022866                      0.042083   \n",
       "23                 3.813721                      0.858917   \n",
       "\n",
       "   IsIncongruentOutlier  IncongruentSquareDevation  \n",
       "0                 False                   7.496188  \n",
       "1                 False                  10.725079  \n",
       "2                 False                   0.643070  \n",
       "3                 False                  40.055186  \n",
       "4                 False                   0.619500  \n",
       "5                 False                   1.294854  \n",
       "6                 False                   6.533562  \n",
       "7                 False                  21.362114  \n",
       "8                 False                   1.572307  \n",
       "9                 False                  18.199467  \n",
       "10                False                   6.290482  \n",
       "11                False                  11.369822  \n",
       "12                False                  20.303285  \n",
       "13                False                   2.842315  \n",
       "14                 True                 175.273328  \n",
       "15                False                   0.020188  \n",
       "16                False                   9.753650  \n",
       "17                False                   2.518305  \n",
       "18                False                  21.076516  \n",
       "19                 True                 150.604029  \n",
       "20                False                   3.527197  \n",
       "21                False                  16.450460  \n",
       "22                False                   0.001771  \n",
       "23                False                   0.737738  "
      ]
     },
     "execution_count": 8,
     "metadata": {},
     "output_type": "execute_result"
    }
   ],
   "source": [
    "# calculate outlieres\n",
    "# make a copy of original dataframe\n",
    "newdata = data.copy()\n",
    "\n",
    "newdata['CongruentDeviationFromMean'] = abs(newdata['Congruent'] - newdata['Congruent'].mean())\n",
    "newdata['IsCongruentOutlier'] = abs(newdata['Congruent'] - newdata['Congruent'].mean()) > 1.96*newdata['Congruent'].std()\n",
    "newdata['CongruentSquareDevation'] = abs(newdata['Congruent'] - newdata['Congruent'].mean())**2\n",
    "\n",
    "newdata['IncongruentDeviationFromMean'] = abs(newdata['Incongruent'] - newdata['Incongruent'].mean())\n",
    "newdata['IsIncongruentOutlier'] = abs(newdata['Incongruent'] - newdata['Incongruent'].mean()) > 1.96*newdata['Incongruent'].std()\n",
    "newdata['IncongruentSquareDevation'] = abs(newdata['Incongruent'] - newdata['Incongruent'].mean())**2\n",
    "\n",
    "newdata"
   ]
  },
  {
   "cell_type": "code",
   "execution_count": 9,
   "metadata": {
    "collapsed": false
   },
   "outputs": [
    {
     "name": "stdout",
     "output_type": "stream",
     "text": [
      "       Congruent  Incongruent\n",
      "count  24.000000    24.000000\n",
      "mean   14.051125    22.015917\n",
      "std     3.559358     4.797057\n",
      "min     8.630000    15.687000\n",
      "25%    11.895250    18.716750\n",
      "50%    14.356500    21.017500\n",
      "75%    16.200750    24.051500\n",
      "max    22.328000    35.255000\n"
     ]
    }
   ],
   "source": [
    "print(data.describe())"
   ]
  },
  {
   "cell_type": "code",
   "execution_count": 328,
   "metadata": {
    "collapsed": false
   },
   "outputs": [
    {
     "data": {
      "text/plain": [
       "12.669029070652174"
      ]
     },
     "execution_count": 328,
     "metadata": {},
     "output_type": "execute_result"
    }
   ],
   "source": [
    "congruentvariance = ((newdata.CongruentSquareDevation).sum())/(newdata['Congruent'].count()-1)\n",
    "congruentvariance"
   ]
  },
  {
   "cell_type": "code",
   "execution_count": 329,
   "metadata": {
    "collapsed": false
   },
   "outputs": [
    {
     "data": {
      "text/plain": [
       "23.011757036231884"
      ]
     },
     "execution_count": 329,
     "metadata": {},
     "output_type": "execute_result"
    }
   ],
   "source": [
    "incongruentvariance = ((newdata.IncongruentSquareDevation).sum())/(newdata['Incongruent'].count()-1)\n",
    "incongruentvariance"
   ]
  },
  {
   "cell_type": "code",
   "execution_count": 330,
   "metadata": {
    "collapsed": false
   },
   "outputs": [
    {
     "name": "stdout",
     "output_type": "stream",
     "text": [
      "Congruent Data\n",
      "Q1: 11.89525\n",
      "Q3: 16.20075\n",
      "IQR: 4.3055\n",
      "5.437\n",
      "22.659\n"
     ]
    }
   ],
   "source": [
    "#calc IQR for Congruent Data\n",
    "dfc = pd.DataFrame({'Congruent': data['Congruent']})\n",
    "dfc.sort_values('Congruent', inplace=True)\n",
    "\n",
    "Q1 = dfc['Congruent'].quantile(0.25)\n",
    "Q3 = dfc['Congruent'].quantile(0.75)\n",
    "IQR_Congruent = Q3 - Q1\n",
    "print \"Congruent Data\"\n",
    "print \"Q1:\", Q1\n",
    "print \"Q3:\", Q3\n",
    "print \"IQR:\", IQR_Congruent\n",
    "Outlier = Q1-(1.5*IQR_Congruent)\n",
    "print Outlier\n",
    "Outlierabove = Q3 + (1.5*IQR_Congruent)\n",
    "print Outlierabove"
   ]
  },
  {
   "cell_type": "code",
   "execution_count": 331,
   "metadata": {
    "collapsed": false
   },
   "outputs": [
    {
     "name": "stdout",
     "output_type": "stream",
     "text": [
      "Incongruent Data\n",
      "Q1: 18.71675\n",
      "Q3: 24.0515\n",
      "IQR: 5.33475\n",
      "10.714625\n",
      "32.053625\n"
     ]
    }
   ],
   "source": [
    "#calc IQR for Incongruent Data\n",
    "dfi = pd.DataFrame({'Incongruent': data['Incongruent']})\n",
    "dfi.sort_values('Incongruent', inplace=True)\n",
    "\n",
    "Q1i = dfi['Incongruent'].quantile(0.25)\n",
    "Q3i = dfi['Incongruent'].quantile(0.75)\n",
    "IQR_Incongruent = Q3i - Q1i\n",
    "\n",
    "print \"Incongruent Data\"\n",
    "print \"Q1:\", Q1i\n",
    "print \"Q3:\", Q3i\n",
    "print \"IQR:\", IQR_Incongruent\n",
    "OutlierI = Q1i-(1.5*IQR_Incongruent)\n",
    "print OutlierI\n",
    "OutlieraboveI = Q3i+ (1.5*IQR_Incongruent)\n",
    "print OutlieraboveI"
   ]
  },
  {
   "cell_type": "markdown",
   "metadata": {},
   "source": [
    "**Standard Deviation**\n",
    "\n",
    "\\begin{equation}\n",
    "%\n",
    "\\sigma = \\sqrt[]\\frac{\\sum (x_i - \\overline{x})^2}{n-1}\n",
    "%\n",
    "\\end{equation}\n",
    "\n",
    "\\begin{equation}\n",
    "%\n",
    "\\sigma_{congruent} = 3.55\n",
    "%\n",
    "\\end{equation}\n",
    "\n",
    "\\begin{equation}\n",
    "%\n",
    "\\sigma_{incongruent} = 4.79\n",
    "%\n",
    "\\end{equation}\n",
    "\n",
    "**Variance**\n",
    "\n",
    "\\begin{equation}\n",
    "%\n",
    "s^2 = \\frac{\\sum (x_i - \\overline{x})^2}{n-1}\n",
    "%\n",
    "\\end{equation}\n",
    "\n",
    "\\begin{equation}\n",
    "%\n",
    "s^2_{congruent} = 12.66\n",
    "%\n",
    "\\end{equation}\n",
    "\n",
    "\\begin{equation}\n",
    "%\n",
    "s^2_{incongruent} = 23.01\n",
    "%\n",
    "\\end{equation}\n",
    "\n",
    "\n",
    "**Range**\n",
    "\n",
    "The range in Congruent Data from 8.63 to 22.32 seconds, where as the Incroguent Data has a range from 15.69 to 35.26. This shows that the quickest reader for the incongruent data needed almost double the time as the quickest reader from the congruent data. This Range includes outliers. To get a better idea of the data we need to look up the IQR.\n",
    "\n",
    "**Inter-quartile Range**\n",
    "\n",
    "This range tells us that about 50% of the data are within the IQR. So it tells us how spread out the data is. \n",
    "\\begin{equation} \n",
    "% \n",
    "Q1 – 1.5 \\dot IQR \n",
    "%\n",
    "\\\\\n",
    "or \n",
    "\\\\\n",
    "%\n",
    "Q3 + 1.5 \\dot IQR\n",
    "% \n",
    "\\end{equation}\n",
    "\n",
    "\n",
    "\\begin{equation}\n",
    "%\n",
    "IQR_{congruent} = 4.3055\n",
    "%\n",
    "\\end{equation} \n",
    "\n",
    "\\begin{equation}\n",
    "%\n",
    "IQR_{incongruent} = 5.3347\n",
    "%\n",
    "\\end{equation}\n",
    "\n",
    "So 50% of the congruent Data differ 4.3055 seconds and the lie between the marks Q1: 11.89525 and\n",
    "Q3: 16.20075. While the incongruent Data 50% differ 5.3347 seconds and the lie between the marks 18.71675\n",
    "Q3: 24.0515. This already shows quite well that the incongruent data takes more time to read then the congruent data, because the 25% (Q1) and the 75%(Q3) are higher and the spread is also bigger."
   ]
  },
  {
   "cell_type": "markdown",
   "metadata": {},
   "source": [
    "**4. Provide one or two visualizations that show the distribution of the sample data. Write one or two sentences noting what you observe about the plot or plots.**"
   ]
  },
  {
   "cell_type": "code",
   "execution_count": 49,
   "metadata": {
    "collapsed": false
   },
   "outputs": [
    {
     "name": "stdout",
     "output_type": "stream",
     "text": [
      "Populating the interactive namespace from numpy and matplotlib\n"
     ]
    },
    {
     "name": "stderr",
     "output_type": "stream",
     "text": [
      "WARNING: pylab import has clobbered these variables: ['cosh', 'ldexp', 'hypot', 'tan', 'isnan', 'log', 'fabs', 'floor', 'sqrt', 'frexp', 'degrees', 'pi', 'log10', 'sin', 'modf', 'copysign', 'cos', 'ceil', 'isinf', 'sinh', 'trunc', 'std', 'expm1', 'e', 'tanh', 'radians', 'fmod', 'exp', 'log1p', 'gamma']\n",
      "`%matplotlib` prevents importing * from pylab and numpy\n"
     ]
    },
    {
     "data": {
      "text/plain": [
       "<matplotlib.text.Text at 0x113f30950>"
      ]
     },
     "execution_count": 49,
     "metadata": {},
     "output_type": "execute_result"
    },
    {
     "data": {
      "image/png": "[encoded data removed]",
      "text/plain": [
       "<matplotlib.figure.Figure at 0x113c72c50>"
      ]
     },
     "metadata": {},
     "output_type": "display_data"
    }
   ],
   "source": [
    "%pylab inline\n",
    "\n",
    "import matplotlib.pyplot as plt\n",
    "matplotlib.style.use('ggplot')\n",
    "\n",
    "#boxplot\n",
    "color = dict(boxes='grey', whiskers='blue', medians=\"DarkBlue\", caps=\"green\" )\n",
    "data.plot.box(color=color, sym=\"r+\");\n",
    "ylabel('Time in Seconds')\n",
    "title('Boxplots for Stroop Data')"
   ]
  },
  {
   "cell_type": "markdown",
   "metadata": {},
   "source": [
    "In the boxplot above we see a clear difference between the mean(Q2) of the congruent and the incongruent boxplots.\n",
    "The Congruent Boxplot has no outliers, while the incongruent plot show two outliers at around 35 seconds. As the calculation for outliers in boxplots is different than our calculation for outliers at Question 3, here it shows that\n",
    "the Incongruent Data hast two extreme outliers and the congruent data has no extrem outlier. Other than to the outlier calculation from above the outliers of Boxplots are calculated differently.\n",
    "\n",
    "Both boxplots are a very little skewed. The congruent data plot is skewed slightly negatively, which is also proven by that the Mean (14.05) is smaller than the Median (14.36). The incongruent data plot is slightly skewed positively which is proven by that the the Median (21.02) is smaller than the Mean (22.02).\n",
    "\n",
    "In the congruent data plot we can see that 50% of the data are close together, because the box is not very large, but the biggest non outlier seems to be far away from the box, as the whikser is even longer than the box.\n",
    "In the incongruent data plot we can also see that the is realy close together, because also the whiksers are not very long. But we have two extrem outliers in this plot."
   ]
  },
  {
   "cell_type": "code",
   "execution_count": 50,
   "metadata": {
    "collapsed": false
   },
   "outputs": [
    {
     "data": {
      "text/plain": [
       "<matplotlib.text.Text at 0x116ef7190>"
      ]
     },
     "execution_count": 50,
     "metadata": {},
     "output_type": "execute_result"
    },
    {
     "data": {
      "text/plain": [
       "<matplotlib.figure.Figure at 0x1169cbed0>"
      ]
     },
     "metadata": {},
     "output_type": "display_data"
    },
    {
     "data": {
      "image/png": "[encoded data removed]",
      "text/plain": [
       "<matplotlib.figure.Figure at 0x113d1af10>"
      ]
     },
     "metadata": {},
     "output_type": "display_data"
    }
   ],
   "source": [
    "import matplotlib.pyplot as plt\n",
    "matplotlib.style.use('ggplot')\n",
    "df = pd.DataFrame({'Congruent': data['Congruent'], 'Incongruent': data['Incongruent']},\n",
    "                   columns=['Congruent', 'Incongruent'])\n",
    "plt.figure();\n",
    "df.plot.hist(title=\"Stroop Data\", stacked=\"false\", bins = 25);\n",
    "ylabel('Count')\n",
    "xlabel('Time in Seconds')\n",
    "title('Bar Diagramm')"
   ]
  },
  {
   "cell_type": "markdown",
   "metadata": {},
   "source": [
    "The histogram shows again that the congruent data hast some outliers at the time of about 35 seconds. It shows clearly that the Congruent data was read faster than the incongruent data."
   ]
  },
  {
   "cell_type": "code",
   "execution_count": 51,
   "metadata": {
    "collapsed": false
   },
   "outputs": [
    {
     "data": {
      "text/html": [
       "<div>\n",
       "<table border=\"1\" class=\"dataframe\">\n",
       "  <thead>\n",
       "    <tr style=\"text-align: right;\">\n",
       "      <th></th>\n",
       "      <th>Congruent</th>\n",
       "      <th>Difference</th>\n",
       "      <th>Incongruent</th>\n",
       "    </tr>\n",
       "  </thead>\n",
       "  <tbody>\n",
       "    <tr>\n",
       "      <th>count</th>\n",
       "      <td>24.000000</td>\n",
       "      <td>24.000000</td>\n",
       "      <td>24.000000</td>\n",
       "    </tr>\n",
       "    <tr>\n",
       "      <th>mean</th>\n",
       "      <td>14.051125</td>\n",
       "      <td>7.964792</td>\n",
       "      <td>22.015917</td>\n",
       "    </tr>\n",
       "    <tr>\n",
       "      <th>std</th>\n",
       "      <td>3.559358</td>\n",
       "      <td>4.864827</td>\n",
       "      <td>4.797057</td>\n",
       "    </tr>\n",
       "    <tr>\n",
       "      <th>min</th>\n",
       "      <td>8.630000</td>\n",
       "      <td>1.950000</td>\n",
       "      <td>15.687000</td>\n",
       "    </tr>\n",
       "    <tr>\n",
       "      <th>25%</th>\n",
       "      <td>11.895250</td>\n",
       "      <td>3.645500</td>\n",
       "      <td>18.716750</td>\n",
       "    </tr>\n",
       "    <tr>\n",
       "      <th>50%</th>\n",
       "      <td>14.356500</td>\n",
       "      <td>7.666500</td>\n",
       "      <td>21.017500</td>\n",
       "    </tr>\n",
       "    <tr>\n",
       "      <th>75%</th>\n",
       "      <td>16.200750</td>\n",
       "      <td>10.258500</td>\n",
       "      <td>24.051500</td>\n",
       "    </tr>\n",
       "    <tr>\n",
       "      <th>max</th>\n",
       "      <td>22.328000</td>\n",
       "      <td>21.919000</td>\n",
       "      <td>35.255000</td>\n",
       "    </tr>\n",
       "  </tbody>\n",
       "</table>\n",
       "</div>"
      ],
      "text/plain": [
       "       Congruent  Difference  Incongruent\n",
       "count  24.000000   24.000000    24.000000\n",
       "mean   14.051125    7.964792    22.015917\n",
       "std     3.559358    4.864827     4.797057\n",
       "min     8.630000    1.950000    15.687000\n",
       "25%    11.895250    3.645500    18.716750\n",
       "50%    14.356500    7.666500    21.017500\n",
       "75%    16.200750   10.258500    24.051500\n",
       "max    22.328000   21.919000    35.255000"
      ]
     },
     "execution_count": 51,
     "metadata": {},
     "output_type": "execute_result"
    }
   ],
   "source": [
    "time_df = pd.DataFrame({\"Congruent\": data['Congruent'],\n",
    "                          \"Incongruent\": data['Incongruent'],\n",
    "                          \"Difference\":data['Incongruent']-data['Congruent']})\n",
    "\n",
    "# Summarize the data\n",
    "time_df.describe()             "
   ]
  },
  {
   "cell_type": "markdown",
   "metadata": {},
   "source": [
    "**5. Now, perform the statistical test and report your results. What is your confidence level and your critical statistic value? Do you reject the null hypothesis or fail to reject it? Come to a conclusion in terms of the experiment task. Did the results match up with your expectations?**"
   ]
  },
  {
   "cell_type": "code",
   "execution_count": 30,
   "metadata": {
    "collapsed": false
   },
   "outputs": [
    {
     "data": {
      "text/plain": [
       "Ttest_relResult(statistic=-8.020706944109957, pvalue=4.1030005857111781e-08)"
      ]
     },
     "execution_count": 30,
     "metadata": {},
     "output_type": "execute_result"
    }
   ],
   "source": [
    "from scipy import stats\n",
    "stats.ttest_rel(a = data['Congruent'],\n",
    "                b = data['Incongruent'])\n"
   ]
  },
  {
   "cell_type": "markdown",
   "metadata": {},
   "source": [
    "We conduct a paired t-test to see whether this difference is significant at a 95% confidence level.\n",
    "\n",
    "1. Hypothesis\n",
    "\\begin{equation} \n",
    "% \n",
    "\\\\H_0: \\mu_{difference} = 0\n",
    "\\\\H_A: \\mu_{difference} \\neq 0\n",
    "% \n",
    "\\end{equation}\n",
    "\n"
   ]
  },
  {
   "cell_type": "markdown",
   "metadata": {},
   "source": [
    "\\begin{equation}\n",
    "%\n",
    "\\mu_{congruent} = 14.05 \\\\\n",
    "\\mu_{incongruent} = 22.02 \\\\\n",
    "\\mu_{difference} = -7.96 \\\\\n",
    "n = 24 \\\\\n",
    "df = 23\\\\\n",
    "%\n",
    "\\end{equation}"
   ]
  },
  {
   "cell_type": "markdown",
   "metadata": {},
   "source": [
    "1. Calc standard deviation for all values\n",
    "\n",
    "\\begin{equation} \n",
    "%\n",
    "d_i = x_{congruent} - x_{incongruent} \\\\\n",
    "%\n",
    "%\n",
    "\\\\SD =  \\sqrt[]\\frac{\\sum(d_i - \\overline{d})^2}{df} \\\\\n",
    "% \n",
    "\\end{equation}\n"
   ]
  },
  {
   "cell_type": "code",
   "execution_count": 52,
   "metadata": {
    "collapsed": false
   },
   "outputs": [
    {
     "name": "stdout",
     "output_type": "stream",
     "text": [
      "    Congruent  Incongruent  Difference\n",
      "0      12.079       19.278       7.199\n",
      "1      16.791       18.741       1.950\n",
      "2       9.564       21.214      11.650\n",
      "3       8.630       15.687       7.057\n",
      "4      14.669       22.803       8.134\n",
      "5      12.238       20.878       8.640\n",
      "6      14.692       24.572       9.880\n",
      "7       8.987       17.394       8.407\n",
      "8       9.401       20.762      11.361\n",
      "9      14.480       26.282      11.802\n",
      "10     22.328       24.524       2.196\n",
      "11     15.298       18.644       3.346\n",
      "12     15.073       17.510       2.437\n",
      "13     16.929       20.330       3.401\n",
      "14     18.200       35.255      17.055\n",
      "15     12.130       22.158      10.028\n",
      "16     18.495       25.139       6.644\n",
      "17     10.639       20.429       9.790\n",
      "18     11.344       17.425       6.081\n",
      "19     12.369       34.288      21.919\n",
      "20     12.944       23.894      10.950\n",
      "21     14.233       17.960       3.727\n",
      "22     19.710       22.058       2.348\n",
      "23     16.004       21.157       5.153\n"
     ]
    }
   ],
   "source": [
    "#calc difference between two tables\n",
    "ttestdata = data.copy()\n",
    "M_D = -7.96\n",
    "n = 24\n",
    "df = 23\n",
    "ttestdata['Difference'] = abs(ttestdata['Congruent'] - ttestdata['Incongruent'])\n",
    "\n",
    "print ttestdata"
   ]
  },
  {
   "cell_type": "code",
   "execution_count": 53,
   "metadata": {
    "collapsed": false,
    "scrolled": true
   },
   "outputs": [
    {
     "data": {
      "text/plain": [
       "count    24.000000\n",
       "mean      7.964792\n",
       "std       4.864827\n",
       "min       1.950000\n",
       "25%       3.645500\n",
       "50%       7.666500\n",
       "75%      10.258500\n",
       "max      21.919000\n",
       "Name: Difference, dtype: float64"
      ]
     },
     "execution_count": 53,
     "metadata": {},
     "output_type": "execute_result"
    }
   ],
   "source": [
    "ttestdata['Difference'].describe() "
   ]
  },
  {
   "cell_type": "markdown",
   "metadata": {},
   "source": [
    "Look up the t_critical in the t-table for a two-tailed t-test with a confidence level of 95%\n",
    "\n",
    "\\begin{equation}\n",
    "%\n",
    "df = 23 \\\\\n",
    "\\alpha = 0.025 \\\\\n",
    "t_{critical} = 2.069 \\\\\n",
    "%\n",
    "\\end{equation}"
   ]
  },
  {
   "cell_type": "markdown",
   "metadata": {},
   "source": [
    "*Calculate the mean difference*\n",
    "\\begin{equation} \n",
    "% \n",
    "\\overline{d}\n",
    "% \n",
    "\\end{equation}\n",
    "\n",
    "*Calculate the standard deviation of the difference*\n",
    "\\begin{equation} \n",
    "% \n",
    "s_d\n",
    "% \n",
    "\\end{equation}\n"
   ]
  },
  {
   "cell_type": "code",
   "execution_count": 54,
   "metadata": {
    "collapsed": false
   },
   "outputs": [
    {
     "name": "stdout",
     "output_type": "stream",
     "text": [
      "mean difference: 7.96479166667\n",
      "standard deviation of the differences:  4.86482691036\n"
     ]
    }
   ],
   "source": [
    "d_bar = ttestdata['Difference'].mean()\n",
    "print \"mean difference:\", d_bar\n",
    "std = ttestdata['Difference'].std()\n",
    "print \"standard deviation of the differences: \", std"
   ]
  },
  {
   "cell_type": "markdown",
   "metadata": {},
   "source": [
    "*Calculate the standard deviation of the differences*\n",
    "\\begin{equation} \n",
    "% \n",
    "SE_{\\overline{d}} = {\\frac{s_d}{\\sqrt[]n}}\n",
    "% \n",
    "\\end{equation}"
   ]
  },
  {
   "cell_type": "code",
   "execution_count": 55,
   "metadata": {
    "collapsed": false
   },
   "outputs": [
    {
     "name": "stdout",
     "output_type": "stream",
     "text": [
      "standard deviation of the differences:  0.993028634778\n"
     ]
    }
   ],
   "source": [
    "from math import *\n",
    "\n",
    "SE_d_bar = ttestdata['Difference'].std()/(sqrt(n))\n",
    "print \"standard deviation of the differences: \", SE_d_bar"
   ]
  },
  {
   "cell_type": "markdown",
   "metadata": {},
   "source": [
    "*Calculate t-statistic*\n",
    "\n",
    "\\begin{equation} \n",
    "% \n",
    "t=\\frac{\\overline{d}}{SE_{\\overline{d}}}\n",
    "% \n",
    "\\end{equation}"
   ]
  },
  {
   "cell_type": "code",
   "execution_count": 56,
   "metadata": {
    "collapsed": false
   },
   "outputs": [
    {
     "name": "stdout",
     "output_type": "stream",
     "text": [
      "t-statistic:  8.02070694411\n"
     ]
    }
   ],
   "source": [
    "t_statistic = ttestdata['Difference'].mean()/SE_d_bar\n",
    "                       \n",
    "print \"t-statistic: \", t_statistic"
   ]
  },
  {
   "cell_type": "markdown",
   "metadata": {},
   "source": [
    "The p-value is about 0.00001 according to the t-table."
   ]
  },
  {
   "cell_type": "markdown",
   "metadata": {},
   "source": [
    "Calculate Cohens D\n",
    "\\begin{equation} \n",
    "cohens'd = \\frac{\\overline{d}}{s} \\\\\n",
    "\\end{equation}"
   ]
  },
  {
   "cell_type": "code",
   "execution_count": 58,
   "metadata": {
    "collapsed": false
   },
   "outputs": [
    {
     "name": "stdout",
     "output_type": "stream",
     "text": [
      "Cohens D : 1.63721994912\n"
     ]
    }
   ],
   "source": [
    "Cohens_D = (ttestdata['Difference'].mean()/ttestdata['Difference'].std())\n",
    "print \"Cohens D :\", Cohens_D"
   ]
  },
  {
   "cell_type": "markdown",
   "metadata": {},
   "source": [
    "Because Cohens'D is bigger than 1, we can say that the way the data is displayed has a real big effect on the readability."
   ]
  },
  {
   "cell_type": "markdown",
   "metadata": {},
   "source": [
    "Calculate r2\n",
    "\n",
    "\\begin{equation} \n",
    "% \n",
    "\\\\r^2=\\frac{t^2}{t^2 + df}\n",
    "% \n",
    "\\end{equation}"
   ]
  },
  {
   "cell_type": "code",
   "execution_count": 59,
   "metadata": {
    "collapsed": false
   },
   "outputs": [
    {
     "name": "stdout",
     "output_type": "stream",
     "text": [
      "r2:  0.736636416145\n"
     ]
    }
   ],
   "source": [
    "r2 = t_statistic**2/(t_statistic**2 + df)\n",
    "print \"r2: \", r2"
   ]
  },
  {
   "cell_type": "markdown",
   "metadata": {},
   "source": [
    "We can say that 73% of the time saved are due to the \"congruent\" displayed data."
   ]
  },
  {
   "cell_type": "code",
   "execution_count": 60,
   "metadata": {
    "collapsed": false
   },
   "outputs": [
    {
     "name": "stdout",
     "output_type": "stream",
     "text": [
      "Confidence Interval: ( 5.91021542131 ,  10.019367912 )\n"
     ]
    }
   ],
   "source": [
    "#Confidence Interval\n",
    "CI_1 = ttestdata['Difference'].mean() - (2.069*(ttestdata['Difference'].std()/sqrt(n)))\n",
    "CI_2 = ttestdata['Difference'].mean() + (2.069*(ttestdata['Difference'].std()/sqrt(n)))\n",
    "                      \n",
    "print \"Confidence Interval: (\", CI_1, \", \", CI_2, \")\"                    "
   ]
  },
  {
   "cell_type": "markdown",
   "metadata": {},
   "source": [
    "We reject the null hypothesis, because the t_statistic value falls far within the t_critical region. We can say the result is significant at p < .05. \n",
    "The test meets our expectation, because we already saw in a big difference in the difficulty of reading \"congruent data\" and \"incongruent data\".\n",
    "\n",
    "**RESULTS**\n",
    "\n",
    "t(24) = 8.02, p<.00001, two-tailed \n",
    "\n",
    "95% CI(5.91, 10.019) \n",
    "\n",
    "d=1.64, r2=.73\n"
   ]
  },
  {
   "cell_type": "markdown",
   "metadata": {},
   "source": [
    "**6. Optional: What do you think is responsible for the effects observed? Can you think of an alternative or similar task that would result in a similar effect? Some research about the problem will be helpful for thinking about these two questions!**"
   ]
  },
  {
   "cell_type": "markdown",
   "metadata": {},
   "source": [
    "Reading is much more automated cognitive doing than the naming of colors. That is why the testpersons have problems and need more time to read incongruent displayed text.\n",
    "The similar effect can be achieved when we print out animals and display a name of a different animal at the same time."
   ]
  },
  {
   "cell_type": "markdown",
   "metadata": {},
   "source": [
    "*Resources*\n",
    "\n",
    "http://pandas.pydata.org/pandas-docs/stable/visualization.html\n",
    "\n",
    "http://machinelearningmastery.com/quick-and-dirty-data-analysis-with-pandas\n",
    "\n",
    "http://de.mathworks.com/help/stats/boxplot.html?requestedDomain=www.mathworks.com\n",
    "\n",
    "http://stattrek.com/statistics/charts/boxplot.aspx?Tutorial=AP\n",
    "\n",
    "http://www.statsdirect.com/help/parametric_methods/paired_t.htm\n",
    "\n",
    "http://www.statstutor.ac.uk/resources/uploaded/paired-t-test.pdf\n",
    "\n",
    "https://s3.amazonaws.com/udacity-hosted-downloads/t-table.jpg\n",
    "\n",
    "https://de.wikipedia.org/wiki/Stroop-Effekt\n"
   ]
  }
 ],
 "metadata": {
  "anaconda-cloud": {},
  "kernelspec": {
   "display_name": "Python [Root]",
   "language": "python",
   "name": "Python [Root]"
  },
  "language_info": {
   "codemirror_mode": {
    "name": "ipython",
    "version": 2
   },
   "file_extension": ".py",
   "mimetype": "text/x-python",
   "name": "python",
   "nbconvert_exporter": "python",
   "pygments_lexer": "ipython2",
   "version": "2.7.12"
  }
 },
 "nbformat": 4,
 "nbformat_minor": 0
}
